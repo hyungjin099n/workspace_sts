{
 "cells": [
  {
   "cell_type": "markdown",
   "id": "3609ab45",
   "metadata": {},
   "source": [
    "# 파이썬 프로그래밍 시험 (A)"
   ]
  },
  {
   "cell_type": "markdown",
   "id": "96801310",
   "metadata": {},
   "source": [
    "### 1. 키보드로 두 수를 입력받아 큰 수부터 출력하는 프로그램을 작성하시요. 단, 입력받는 두 수는 중복이 없다고 가정한다. (10점)"
   ]
  },
  {
   "cell_type": "code",
   "execution_count": 2,
   "id": "312f650f",
   "metadata": {},
   "outputs": [
    {
     "name": "stdout",
     "output_type": "stream",
     "text": [
      "첫번째 수 :20\n",
      "두번째 수 :10\n",
      "20\n"
     ]
    }
   ],
   "source": [
    "#1번 문제 풀이 작성\n",
    "num1 = int(input('첫번째 수 :'))\n",
    "num2 = int(input('두번째 수 :'))\n",
    "\n",
    "print()\n",
    "print(num1 if num1 > num2 else num2)"
   ]
  },
  {
   "cell_type": "markdown",
   "id": "ad1f7e5f",
   "metadata": {},
   "source": [
    "### 2. 키보드로 세 수를 입력받고,입력받은 세 수를 리스트에 저장하시오. 그 후 리스트에 저장된 수 중 가장 큰 수와 가장 작은 수의 차를 출력하시오. (10점)"
   ]
  },
  {
   "cell_type": "code",
   "execution_count": 4,
   "id": "59446e63",
   "metadata": {},
   "outputs": [
    {
     "name": "stdout",
     "output_type": "stream",
     "text": [
      "수를입력하시오 :10\n",
      "수를입력하시오 :20\n",
      "수를입력하시오 :30\n",
      "\n",
      "가장 큰 수 : 30\n",
      "가장 작은 수 : 10\n"
     ]
    }
   ],
   "source": [
    "#2번 문제 풀이 작성\n",
    "myList = []\n",
    "\n",
    "for i in range(3):\n",
    "    num = int(input('수를입력하시오 :'))\n",
    "    myList.append(num)\n",
    "\n",
    "print()\n",
    "print('가장 큰 수 :', max(myList))\n",
    "print('가장 작은 수 :', min(myList))"
   ]
  },
  {
   "cell_type": "markdown",
   "id": "45634a8b",
   "metadata": {},
   "source": [
    "### 3. 매개변수로 두 개의 리스트를 받아, 두 개의 리스트에 저장된 모든 데이터의 합을 리턴하는 함수를 작성하시오.  (10점)\n",
    "EX> 두 매개변수 : [1,2,3] , [4,5,6] / 결과 : 21"
   ]
  },
  {
   "cell_type": "code",
   "execution_count": 5,
   "id": "64188f9f",
   "metadata": {},
   "outputs": [
    {
     "name": "stdout",
     "output_type": "stream",
     "text": [
      "55\n"
     ]
    }
   ],
   "source": [
    "#3번 문제 풀이 작성\n",
    "def getListSum(list1, list2):\n",
    "    return sum(list1) + sum(list2)\n",
    "\n",
    "#test\n",
    "list1 = [1,2,3,4,5]\n",
    "list2 = [6,7,8,9,10]\n",
    "print(getListSum(list1,list2))"
   ]
  },
  {
   "cell_type": "markdown",
   "id": "2e03b884",
   "metadata": {},
   "source": [
    "### 4. 매개변수로 두 개의 리스트를 받아, 두 개의 리스트에 중복으로 저장된 데이터만을 갖는  새로운 리스트를 리턴하는 함수를 작성하시오.  (15점)\n",
    "EX> 두 매개변수 : [1,3,5,7,9] , [1,2,3,4,5] / 결과 : [1,3,5]"
   ]
  },
  {
   "cell_type": "code",
   "execution_count": 7,
   "id": "06603c1d",
   "metadata": {},
   "outputs": [
    {
     "name": "stdout",
     "output_type": "stream",
     "text": [
      "[1, 3, 5]\n"
     ]
    }
   ],
   "source": [
    "#4번 문제 풀이 작성\n",
    "def getDupleList(list1, list2):\n",
    "    resultList = []\n",
    "    \n",
    "    for num in list1:\n",
    "        if num in list2:\n",
    "            resultList.append(num)\n",
    "            \n",
    "    return resultList\n",
    "\n",
    "list1 = [1,2,3,4,5]\n",
    "list2 = [1,3,5,9,10]\n",
    "print(getDupleList(list1,list2))"
   ]
  },
  {
   "cell_type": "markdown",
   "id": "cfde14e4",
   "metadata": {},
   "source": [
    "### 5. 이름, 나이, 국어점수, 영어점수를 데이터로 갖는 student 딕셔너리를 만드시오. 각 데이터는 키보드로 입력받아 저장하고, 저장된 데이터를 출력하시오 (10점)"
   ]
  },
  {
   "cell_type": "code",
   "execution_count": 8,
   "id": "3bec11d1",
   "metadata": {},
   "outputs": [
    {
     "name": "stdout",
     "output_type": "stream",
     "text": [
      "이름 :tester\n",
      "나이 :20\n",
      "국어점수 :80\n",
      "영어점수 :90\n",
      "\n",
      "{'이름': 'tester', '나이': 20, '국어점수': 80, '영어점수': 90}\n"
     ]
    }
   ],
   "source": [
    "#5번 문제 풀이 작성\n",
    "my_dict = {}\n",
    "my_dict['이름'] = input('이름 :')\n",
    "my_dict['나이'] = int(input('나이 :'))\n",
    "my_dict['국어점수'] = int(input('국어점수 :'))\n",
    "my_dict['영어점수'] = int(input('영어점수 :'))\n",
    "\n",
    "print()\n",
    "print(my_dict)"
   ]
  },
  {
   "cell_type": "markdown",
   "id": "bfdfd34d",
   "metadata": {},
   "source": [
    "###  6. 5번 문제에서 만든 딕셔너리 데이터에 총점 데이터를 추가하시오. 총점 데이터는 국어,영어 점수의 합으로 들어가야합니다. (15점)"
   ]
  },
  {
   "cell_type": "code",
   "execution_count": 12,
   "id": "98179e8a",
   "metadata": {},
   "outputs": [
    {
     "data": {
      "text/plain": [
       "{'이름': 'tester', '나이': 20, '국어점수': 80, '영어점수': 90, '총점': 170}"
      ]
     },
     "execution_count": 12,
     "metadata": {},
     "output_type": "execute_result"
    }
   ],
   "source": [
    "#6번 문제 풀이 작성\n",
    "my_dict['총점'] = my_dict['국어점수'] + my_dict['영어점수']\n",
    "my_dict"
   ]
  },
  {
   "cell_type": "markdown",
   "id": "ec5ad5ab",
   "metadata": {},
   "source": [
    "### 아래 데이터를 참고하여 7~8번 문제를 푸시오."
   ]
  },
  {
   "cell_type": "code",
   "execution_count": 14,
   "id": "c53fe493",
   "metadata": {},
   "outputs": [],
   "source": [
    "class_room_data = {\n",
    "    'stu_no' : [1, 2, 3, 4, 5],\n",
    "    'stu_name' : ['김자바', '이자바', '박자바', '최자바', '정자바'],\n",
    "    'stu_score' : [85, 65, 70, 80, 95]\n",
    "}"
   ]
  },
  {
   "cell_type": "markdown",
   "id": "4e285886",
   "metadata": {},
   "source": [
    "### 7. 점수가 80점 이상인 학생들의 학번, 이름, 점수를 출력하시오. (15점)"
   ]
  },
  {
   "cell_type": "code",
   "execution_count": 27,
   "id": "64ced26a",
   "metadata": {},
   "outputs": [
    {
     "name": "stdout",
     "output_type": "stream",
     "text": [
      "학번 : 1, 이름 : 김자바, 점수 : 85\n",
      "학번 : 4, 이름 : 최자바, 점수 : 80\n",
      "학번 : 5, 이름 : 정자바, 점수 : 95\n"
     ]
    }
   ],
   "source": [
    "for idx, score in enumerate(class_room_data['stu_score']):\n",
    "    if score >= 80:\n",
    "        stu_no = class_room_data['stu_no'][idx]\n",
    "        stu_name = class_room_data['stu_name'][idx]\n",
    "        stu_score = class_room_data['stu_score'][idx]\n",
    "        \n",
    "        print(f'학번 : {stu_no}, 이름 : {stu_name}, 점수 : {stu_score}')"
   ]
  },
  {
   "cell_type": "markdown",
   "id": "9190a70a",
   "metadata": {},
   "source": [
    "### 8. 위의 딕셔너리 데이터에 stu_grade라는 키를 추가하고, 해당 키의  데이터로  점수(stu_score)에 따른 등급 데이터를 저장하시오. (15점)\n",
    "90 <= 점수      : A등급  \n",
    "80 <= 점수 < 90 : B등급  \n",
    "70 <= 점수 < 80 : C등급  \n",
    "      점수 < 70 : D등급"
   ]
  },
  {
   "cell_type": "code",
   "execution_count": 30,
   "id": "8f4bf8e7",
   "metadata": {},
   "outputs": [
    {
     "data": {
      "text/plain": [
       "{'stu_no': [1, 2, 3, 4, 5],\n",
       " 'stu_name': ['김자바', '이자바', '박자바', '최자바', '정자바'],\n",
       " 'stu_score': [85, 65, 70, 80, 95],\n",
       " 'stu_grade': ['B', 'D', 'C', 'B', 'A']}"
      ]
     },
     "execution_count": 30,
     "metadata": {},
     "output_type": "execute_result"
    }
   ],
   "source": [
    "def getGradeData(scores):\n",
    "    grade_list = []\n",
    "    grade_str = ''\n",
    "\n",
    "    for score in scores:\n",
    "        if score >= 90 :\n",
    "            grade_str = 'A'\n",
    "        elif score >= 80:\n",
    "            grade_str = 'B'\n",
    "        elif score >= 70:\n",
    "            grade_str = 'C'\n",
    "        else:\n",
    "            grade_str = 'D'\n",
    "        \n",
    "        grade_list.append(grade_str)\n",
    "    return grade_list\n",
    "\n",
    "class_room_data['stu_grade'] = getGradeData(class_room_data['stu_score'])\n",
    "class_room_data"
   ]
  }
 ],
 "metadata": {
  "kernelspec": {
   "display_name": "Python 3 (ipykernel)",
   "language": "python",
   "name": "python3"
  },
  "language_info": {
   "codemirror_mode": {
    "name": "ipython",
    "version": 3
   },
   "file_extension": ".py",
   "mimetype": "text/x-python",
   "name": "python",
   "nbconvert_exporter": "python",
   "pygments_lexer": "ipython3",
   "version": "3.9.12"
  }
 },
 "nbformat": 4,
 "nbformat_minor": 5
}
