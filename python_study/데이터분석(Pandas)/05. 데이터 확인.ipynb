{
 "cells": [
  {
   "cell_type": "code",
   "execution_count": 1,
   "id": "fdd14bb2",
   "metadata": {},
   "outputs": [],
   "source": [
    "import pandas as pd"
   ]
  },
  {
   "cell_type": "code",
   "execution_count": 10,
   "id": "a55c086d",
   "metadata": {},
   "outputs": [],
   "source": [
    "data = {\n",
    "    '이름' : ['김자바', '이자바', '박자바', '김캐드', '정캐드'],\n",
    "    '학교' : ['자바학교', '자바학교', '자바학교', '캐드학교', '캐드학교'],\n",
    "    '국어점수 ' : [70, 80, 90, 60,80],\n",
    "    '수학점수' : [90, 80, 100, 70 , 80],\n",
    "    '평균' : [80.0, 80.0, 95.0, 65.0, 80.0],\n",
    "    '취미 ' : ['운동', '독서', '등산', '', '']\n",
    "}"
   ]
  },
  {
   "cell_type": "code",
   "execution_count": 11,
   "id": "2bfab820",
   "metadata": {},
   "outputs": [],
   "source": [
    "df = pd.DataFrame(data, index=['1번', '2번', '3번', '4번', '5번'])"
   ]
  },
  {
   "cell_type": "code",
   "execution_count": 12,
   "id": "683ef14e",
   "metadata": {},
   "outputs": [
    {
     "data": {
      "text/html": [
       "<div>\n",
       "<style scoped>\n",
       "    .dataframe tbody tr th:only-of-type {\n",
       "        vertical-align: middle;\n",
       "    }\n",
       "\n",
       "    .dataframe tbody tr th {\n",
       "        vertical-align: top;\n",
       "    }\n",
       "\n",
       "    .dataframe thead th {\n",
       "        text-align: right;\n",
       "    }\n",
       "</style>\n",
       "<table border=\"1\" class=\"dataframe\">\n",
       "  <thead>\n",
       "    <tr style=\"text-align: right;\">\n",
       "      <th></th>\n",
       "      <th>이름</th>\n",
       "      <th>학교</th>\n",
       "      <th>국어점수</th>\n",
       "      <th>수학점수</th>\n",
       "      <th>평균</th>\n",
       "      <th>취미</th>\n",
       "    </tr>\n",
       "  </thead>\n",
       "  <tbody>\n",
       "    <tr>\n",
       "      <th>1번</th>\n",
       "      <td>김자바</td>\n",
       "      <td>자바학교</td>\n",
       "      <td>70</td>\n",
       "      <td>90</td>\n",
       "      <td>80.0</td>\n",
       "      <td>운동</td>\n",
       "    </tr>\n",
       "    <tr>\n",
       "      <th>2번</th>\n",
       "      <td>이자바</td>\n",
       "      <td>자바학교</td>\n",
       "      <td>80</td>\n",
       "      <td>80</td>\n",
       "      <td>80.0</td>\n",
       "      <td>독서</td>\n",
       "    </tr>\n",
       "    <tr>\n",
       "      <th>3번</th>\n",
       "      <td>박자바</td>\n",
       "      <td>자바학교</td>\n",
       "      <td>90</td>\n",
       "      <td>100</td>\n",
       "      <td>95.0</td>\n",
       "      <td>등산</td>\n",
       "    </tr>\n",
       "    <tr>\n",
       "      <th>4번</th>\n",
       "      <td>김캐드</td>\n",
       "      <td>캐드학교</td>\n",
       "      <td>60</td>\n",
       "      <td>70</td>\n",
       "      <td>65.0</td>\n",
       "      <td></td>\n",
       "    </tr>\n",
       "    <tr>\n",
       "      <th>5번</th>\n",
       "      <td>정캐드</td>\n",
       "      <td>캐드학교</td>\n",
       "      <td>80</td>\n",
       "      <td>80</td>\n",
       "      <td>80.0</td>\n",
       "      <td></td>\n",
       "    </tr>\n",
       "  </tbody>\n",
       "</table>\n",
       "</div>"
      ],
      "text/plain": [
       "     이름    학교  국어점수   수학점수    평균 취미 \n",
       "1번  김자바  자바학교     70    90  80.0  운동\n",
       "2번  이자바  자바학교     80    80  80.0  독서\n",
       "3번  박자바  자바학교     90   100  95.0  등산\n",
       "4번  김캐드  캐드학교     60    70  65.0    \n",
       "5번  정캐드  캐드학교     80    80  80.0    "
      ]
     },
     "execution_count": 12,
     "metadata": {},
     "output_type": "execute_result"
    }
   ],
   "source": [
    "df"
   ]
  },
  {
   "cell_type": "code",
   "execution_count": 13,
   "id": "35f58ede",
   "metadata": {},
   "outputs": [],
   "source": [
    "df.index.name = '학번'"
   ]
  },
  {
   "cell_type": "code",
   "execution_count": 14,
   "id": "d5303c9f",
   "metadata": {},
   "outputs": [],
   "source": [
    "df.to_excel('student.xlsx')"
   ]
  },
  {
   "cell_type": "code",
   "execution_count": 15,
   "id": "0fb913d0",
   "metadata": {},
   "outputs": [],
   "source": [
    "df = pd.read_excel('student.xlsx')"
   ]
  },
  {
   "cell_type": "code",
   "execution_count": 19,
   "id": "964c0241",
   "metadata": {},
   "outputs": [
    {
     "data": {
      "text/html": [
       "<div>\n",
       "<style scoped>\n",
       "    .dataframe tbody tr th:only-of-type {\n",
       "        vertical-align: middle;\n",
       "    }\n",
       "\n",
       "    .dataframe tbody tr th {\n",
       "        vertical-align: top;\n",
       "    }\n",
       "\n",
       "    .dataframe thead th {\n",
       "        text-align: right;\n",
       "    }\n",
       "</style>\n",
       "<table border=\"1\" class=\"dataframe\">\n",
       "  <thead>\n",
       "    <tr style=\"text-align: right;\">\n",
       "      <th></th>\n",
       "      <th>이름</th>\n",
       "      <th>학교</th>\n",
       "      <th>국어점수</th>\n",
       "      <th>수학점수</th>\n",
       "      <th>평균</th>\n",
       "      <th>취미</th>\n",
       "    </tr>\n",
       "    <tr>\n",
       "      <th>학번</th>\n",
       "      <th></th>\n",
       "      <th></th>\n",
       "      <th></th>\n",
       "      <th></th>\n",
       "      <th></th>\n",
       "      <th></th>\n",
       "    </tr>\n",
       "  </thead>\n",
       "  <tbody>\n",
       "    <tr>\n",
       "      <th>1번</th>\n",
       "      <td>김자바</td>\n",
       "      <td>자바학교</td>\n",
       "      <td>70</td>\n",
       "      <td>90</td>\n",
       "      <td>80</td>\n",
       "      <td>운동</td>\n",
       "    </tr>\n",
       "    <tr>\n",
       "      <th>2번</th>\n",
       "      <td>이자바</td>\n",
       "      <td>자바학교</td>\n",
       "      <td>80</td>\n",
       "      <td>80</td>\n",
       "      <td>80</td>\n",
       "      <td>독서</td>\n",
       "    </tr>\n",
       "    <tr>\n",
       "      <th>3번</th>\n",
       "      <td>박자바</td>\n",
       "      <td>자바학교</td>\n",
       "      <td>90</td>\n",
       "      <td>100</td>\n",
       "      <td>95</td>\n",
       "      <td>등산</td>\n",
       "    </tr>\n",
       "    <tr>\n",
       "      <th>4번</th>\n",
       "      <td>김캐드</td>\n",
       "      <td>캐드학교</td>\n",
       "      <td>60</td>\n",
       "      <td>70</td>\n",
       "      <td>65</td>\n",
       "      <td>NaN</td>\n",
       "    </tr>\n",
       "    <tr>\n",
       "      <th>5번</th>\n",
       "      <td>정캐드</td>\n",
       "      <td>캐드학교</td>\n",
       "      <td>80</td>\n",
       "      <td>80</td>\n",
       "      <td>80</td>\n",
       "      <td>NaN</td>\n",
       "    </tr>\n",
       "  </tbody>\n",
       "</table>\n",
       "</div>"
      ],
      "text/plain": [
       "     이름    학교  국어점수   수학점수  평균  취미 \n",
       "학번                                 \n",
       "1번  김자바  자바학교     70    90  80   운동\n",
       "2번  이자바  자바학교     80    80  80   독서\n",
       "3번  박자바  자바학교     90   100  95   등산\n",
       "4번  김캐드  캐드학교     60    70  65  NaN\n",
       "5번  정캐드  캐드학교     80    80  80  NaN"
      ]
     },
     "execution_count": 19,
     "metadata": {},
     "output_type": "execute_result"
    }
   ],
   "source": [
    "df.set_index('학번', inplace=True)\n",
    "df"
   ]
  },
  {
   "cell_type": "code",
   "execution_count": 20,
   "id": "a172c208",
   "metadata": {},
   "outputs": [
    {
     "data": {
      "text/html": [
       "<div>\n",
       "<style scoped>\n",
       "    .dataframe tbody tr th:only-of-type {\n",
       "        vertical-align: middle;\n",
       "    }\n",
       "\n",
       "    .dataframe tbody tr th {\n",
       "        vertical-align: top;\n",
       "    }\n",
       "\n",
       "    .dataframe thead th {\n",
       "        text-align: right;\n",
       "    }\n",
       "</style>\n",
       "<table border=\"1\" class=\"dataframe\">\n",
       "  <thead>\n",
       "    <tr style=\"text-align: right;\">\n",
       "      <th></th>\n",
       "      <th>국어점수</th>\n",
       "      <th>수학점수</th>\n",
       "      <th>평균</th>\n",
       "    </tr>\n",
       "  </thead>\n",
       "  <tbody>\n",
       "    <tr>\n",
       "      <th>count</th>\n",
       "      <td>5.000000</td>\n",
       "      <td>5.000000</td>\n",
       "      <td>5.000000</td>\n",
       "    </tr>\n",
       "    <tr>\n",
       "      <th>mean</th>\n",
       "      <td>76.000000</td>\n",
       "      <td>84.000000</td>\n",
       "      <td>80.000000</td>\n",
       "    </tr>\n",
       "    <tr>\n",
       "      <th>std</th>\n",
       "      <td>11.401754</td>\n",
       "      <td>11.401754</td>\n",
       "      <td>10.606602</td>\n",
       "    </tr>\n",
       "    <tr>\n",
       "      <th>min</th>\n",
       "      <td>60.000000</td>\n",
       "      <td>70.000000</td>\n",
       "      <td>65.000000</td>\n",
       "    </tr>\n",
       "    <tr>\n",
       "      <th>25%</th>\n",
       "      <td>70.000000</td>\n",
       "      <td>80.000000</td>\n",
       "      <td>80.000000</td>\n",
       "    </tr>\n",
       "    <tr>\n",
       "      <th>50%</th>\n",
       "      <td>80.000000</td>\n",
       "      <td>80.000000</td>\n",
       "      <td>80.000000</td>\n",
       "    </tr>\n",
       "    <tr>\n",
       "      <th>75%</th>\n",
       "      <td>80.000000</td>\n",
       "      <td>90.000000</td>\n",
       "      <td>80.000000</td>\n",
       "    </tr>\n",
       "    <tr>\n",
       "      <th>max</th>\n",
       "      <td>90.000000</td>\n",
       "      <td>100.000000</td>\n",
       "      <td>95.000000</td>\n",
       "    </tr>\n",
       "  </tbody>\n",
       "</table>\n",
       "</div>"
      ],
      "text/plain": [
       "           국어점수         수학점수         평균\n",
       "count   5.000000    5.000000   5.000000\n",
       "mean   76.000000   84.000000  80.000000\n",
       "std    11.401754   11.401754  10.606602\n",
       "min    60.000000   70.000000  65.000000\n",
       "25%    70.000000   80.000000  80.000000\n",
       "50%    80.000000   80.000000  80.000000\n",
       "75%    80.000000   90.000000  80.000000\n",
       "max    90.000000  100.000000  95.000000"
      ]
     },
     "execution_count": 20,
     "metadata": {},
     "output_type": "execute_result"
    }
   ],
   "source": [
    "df.describe()"
   ]
  },
  {
   "cell_type": "code",
   "execution_count": 21,
   "id": "76d083d2",
   "metadata": {},
   "outputs": [
    {
     "name": "stdout",
     "output_type": "stream",
     "text": [
      "<class 'pandas.core.frame.DataFrame'>\n",
      "Index: 5 entries, 1번 to 5번\n",
      "Data columns (total 6 columns):\n",
      " #   Column  Non-Null Count  Dtype \n",
      "---  ------  --------------  ----- \n",
      " 0   이름      5 non-null      object\n",
      " 1   학교      5 non-null      object\n",
      " 2   국어점수    5 non-null      int64 \n",
      " 3   수학점수    5 non-null      int64 \n",
      " 4   평균      5 non-null      int64 \n",
      " 5   취미      3 non-null      object\n",
      "dtypes: int64(3), object(3)\n",
      "memory usage: 280.0+ bytes\n"
     ]
    }
   ],
   "source": [
    "df.info()"
   ]
  },
  {
   "cell_type": "code",
   "execution_count": 22,
   "id": "ebfbff7f",
   "metadata": {},
   "outputs": [
    {
     "data": {
      "text/html": [
       "<div>\n",
       "<style scoped>\n",
       "    .dataframe tbody tr th:only-of-type {\n",
       "        vertical-align: middle;\n",
       "    }\n",
       "\n",
       "    .dataframe tbody tr th {\n",
       "        vertical-align: top;\n",
       "    }\n",
       "\n",
       "    .dataframe thead th {\n",
       "        text-align: right;\n",
       "    }\n",
       "</style>\n",
       "<table border=\"1\" class=\"dataframe\">\n",
       "  <thead>\n",
       "    <tr style=\"text-align: right;\">\n",
       "      <th></th>\n",
       "      <th>이름</th>\n",
       "      <th>학교</th>\n",
       "      <th>국어점수</th>\n",
       "      <th>수학점수</th>\n",
       "      <th>평균</th>\n",
       "      <th>취미</th>\n",
       "    </tr>\n",
       "    <tr>\n",
       "      <th>학번</th>\n",
       "      <th></th>\n",
       "      <th></th>\n",
       "      <th></th>\n",
       "      <th></th>\n",
       "      <th></th>\n",
       "      <th></th>\n",
       "    </tr>\n",
       "  </thead>\n",
       "  <tbody>\n",
       "    <tr>\n",
       "      <th>1번</th>\n",
       "      <td>김자바</td>\n",
       "      <td>자바학교</td>\n",
       "      <td>70</td>\n",
       "      <td>90</td>\n",
       "      <td>80</td>\n",
       "      <td>운동</td>\n",
       "    </tr>\n",
       "    <tr>\n",
       "      <th>2번</th>\n",
       "      <td>이자바</td>\n",
       "      <td>자바학교</td>\n",
       "      <td>80</td>\n",
       "      <td>80</td>\n",
       "      <td>80</td>\n",
       "      <td>독서</td>\n",
       "    </tr>\n",
       "    <tr>\n",
       "      <th>3번</th>\n",
       "      <td>박자바</td>\n",
       "      <td>자바학교</td>\n",
       "      <td>90</td>\n",
       "      <td>100</td>\n",
       "      <td>95</td>\n",
       "      <td>등산</td>\n",
       "    </tr>\n",
       "    <tr>\n",
       "      <th>4번</th>\n",
       "      <td>김캐드</td>\n",
       "      <td>캐드학교</td>\n",
       "      <td>60</td>\n",
       "      <td>70</td>\n",
       "      <td>65</td>\n",
       "      <td>NaN</td>\n",
       "    </tr>\n",
       "    <tr>\n",
       "      <th>5번</th>\n",
       "      <td>정캐드</td>\n",
       "      <td>캐드학교</td>\n",
       "      <td>80</td>\n",
       "      <td>80</td>\n",
       "      <td>80</td>\n",
       "      <td>NaN</td>\n",
       "    </tr>\n",
       "  </tbody>\n",
       "</table>\n",
       "</div>"
      ],
      "text/plain": [
       "     이름    학교  국어점수   수학점수  평균  취미 \n",
       "학번                                 \n",
       "1번  김자바  자바학교     70    90  80   운동\n",
       "2번  이자바  자바학교     80    80  80   독서\n",
       "3번  박자바  자바학교     90   100  95   등산\n",
       "4번  김캐드  캐드학교     60    70  65  NaN\n",
       "5번  정캐드  캐드학교     80    80  80  NaN"
      ]
     },
     "execution_count": 22,
     "metadata": {},
     "output_type": "execute_result"
    }
   ],
   "source": [
    "df.head() #처음 5개의 row를 가져 옴\n",
    "df.head(3) #처음 3개의 데이터를 가져옴"
   ]
  },
  {
   "cell_type": "code",
   "execution_count": 24,
   "id": "b1a33887",
   "metadata": {},
   "outputs": [
    {
     "data": {
      "text/html": [
       "<div>\n",
       "<style scoped>\n",
       "    .dataframe tbody tr th:only-of-type {\n",
       "        vertical-align: middle;\n",
       "    }\n",
       "\n",
       "    .dataframe tbody tr th {\n",
       "        vertical-align: top;\n",
       "    }\n",
       "\n",
       "    .dataframe thead th {\n",
       "        text-align: right;\n",
       "    }\n",
       "</style>\n",
       "<table border=\"1\" class=\"dataframe\">\n",
       "  <thead>\n",
       "    <tr style=\"text-align: right;\">\n",
       "      <th></th>\n",
       "      <th>이름</th>\n",
       "      <th>학교</th>\n",
       "      <th>국어점수</th>\n",
       "      <th>수학점수</th>\n",
       "      <th>평균</th>\n",
       "      <th>취미</th>\n",
       "    </tr>\n",
       "    <tr>\n",
       "      <th>학번</th>\n",
       "      <th></th>\n",
       "      <th></th>\n",
       "      <th></th>\n",
       "      <th></th>\n",
       "      <th></th>\n",
       "      <th></th>\n",
       "    </tr>\n",
       "  </thead>\n",
       "  <tbody>\n",
       "    <tr>\n",
       "      <th>3번</th>\n",
       "      <td>박자바</td>\n",
       "      <td>자바학교</td>\n",
       "      <td>90</td>\n",
       "      <td>100</td>\n",
       "      <td>95</td>\n",
       "      <td>등산</td>\n",
       "    </tr>\n",
       "    <tr>\n",
       "      <th>4번</th>\n",
       "      <td>김캐드</td>\n",
       "      <td>캐드학교</td>\n",
       "      <td>60</td>\n",
       "      <td>70</td>\n",
       "      <td>65</td>\n",
       "      <td>NaN</td>\n",
       "    </tr>\n",
       "    <tr>\n",
       "      <th>5번</th>\n",
       "      <td>정캐드</td>\n",
       "      <td>캐드학교</td>\n",
       "      <td>80</td>\n",
       "      <td>80</td>\n",
       "      <td>80</td>\n",
       "      <td>NaN</td>\n",
       "    </tr>\n",
       "  </tbody>\n",
       "</table>\n",
       "</div>"
      ],
      "text/plain": [
       "     이름    학교  국어점수   수학점수  평균  취미 \n",
       "학번                                 \n",
       "3번  박자바  자바학교     90   100  95   등산\n",
       "4번  김캐드  캐드학교     60    70  65  NaN\n",
       "5번  정캐드  캐드학교     80    80  80  NaN"
      ]
     },
     "execution_count": 24,
     "metadata": {},
     "output_type": "execute_result"
    }
   ],
   "source": [
    "df.tail() # 마지막 5개의 row를 가져 옴\n",
    "df.tail(3) # 마지막 3개의 row를 가져 옴"
   ]
  },
  {
   "cell_type": "code",
   "execution_count": 26,
   "id": "8a788807",
   "metadata": {},
   "outputs": [
    {
     "data": {
      "text/plain": [
       "array([['김자바', '자바학교', 70, 90, 80, '운동'],\n",
       "       ['이자바', '자바학교', 80, 80, 80, '독서'],\n",
       "       ['박자바', '자바학교', 90, 100, 95, '등산'],\n",
       "       ['김캐드', '캐드학교', 60, 70, 65, nan],\n",
       "       ['정캐드', '캐드학교', 80, 80, 80, nan]], dtype=object)"
      ]
     },
     "execution_count": 26,
     "metadata": {},
     "output_type": "execute_result"
    }
   ],
   "source": [
    "df.values"
   ]
  },
  {
   "cell_type": "code",
   "execution_count": 27,
   "id": "4cdffd3c",
   "metadata": {},
   "outputs": [
    {
     "data": {
      "text/plain": [
       "Index(['1번', '2번', '3번', '4번', '5번'], dtype='object', name='학번')"
      ]
     },
     "execution_count": 27,
     "metadata": {},
     "output_type": "execute_result"
    }
   ],
   "source": [
    "df.index"
   ]
  },
  {
   "cell_type": "code",
   "execution_count": 28,
   "id": "601b5075",
   "metadata": {},
   "outputs": [
    {
     "data": {
      "text/plain": [
       "Index(['이름', '학교', '국어점수 ', '수학점수', '평균', '취미 '], dtype='object')"
      ]
     },
     "execution_count": 28,
     "metadata": {},
     "output_type": "execute_result"
    }
   ],
   "source": [
    "df.columns"
   ]
  },
  {
   "cell_type": "code",
   "execution_count": 30,
   "id": "b0cf3481",
   "metadata": {},
   "outputs": [
    {
     "data": {
      "text/plain": [
       "(5, 6)"
      ]
     },
     "execution_count": 30,
     "metadata": {},
     "output_type": "execute_result"
    }
   ],
   "source": [
    "df.shape #데이터의 행과 열의 개수를 확인"
   ]
  },
  {
   "cell_type": "markdown",
   "id": "2d681404",
   "metadata": {},
   "source": [
    "###  Series 확인"
   ]
  },
  {
   "cell_type": "code",
   "execution_count": 32,
   "id": "d1d4fc17",
   "metadata": {},
   "outputs": [
    {
     "data": {
      "text/plain": [
       "학번\n",
       "1번    김자바\n",
       "2번    이자바\n",
       "3번    박자바\n",
       "4번    김캐드\n",
       "5번    정캐드\n",
       "Name: 이름, dtype: object"
      ]
     },
     "execution_count": 32,
     "metadata": {},
     "output_type": "execute_result"
    }
   ],
   "source": [
    "df['이름']"
   ]
  },
  {
   "cell_type": "code",
   "execution_count": 33,
   "id": "2960d07e",
   "metadata": {},
   "outputs": [
    {
     "data": {
      "text/plain": [
       "<bound method NDFrame.describe of 학번\n",
       "1번    김자바\n",
       "2번    이자바\n",
       "3번    박자바\n",
       "4번    김캐드\n",
       "5번    정캐드\n",
       "Name: 이름, dtype: object>"
      ]
     },
     "execution_count": 33,
     "metadata": {},
     "output_type": "execute_result"
    }
   ],
   "source": [
    "df['이름'].describe"
   ]
  },
  {
   "cell_type": "code",
   "execution_count": 42,
   "id": "910bcaf1",
   "metadata": {},
   "outputs": [
    {
     "data": {
      "text/plain": [
       "5"
      ]
     },
     "execution_count": 42,
     "metadata": {},
     "output_type": "execute_result"
    }
   ],
   "source": [
    "df['수학점수'].min()\n",
    "df['수학점수'].max()\n",
    "df['수학점수'].nlargest(3) #점수가 큰 순서대로 3개의 데이터를 가져 옴\n",
    "df['수학점수'].mean() #평균\n",
    "df['수학점수'].sum()\n",
    "df['수학점수'].count() #NaN 데이터는 제외"
   ]
  },
  {
   "cell_type": "code",
   "execution_count": 46,
   "id": "999315c7",
   "metadata": {},
   "outputs": [
    {
     "data": {
      "text/plain": [
       "2"
      ]
     },
     "execution_count": 46,
     "metadata": {},
     "output_type": "execute_result"
    }
   ],
   "source": [
    "df['학교'].unique()  #중복제거\n",
    "df['학교'].nunique() # 중복제거한 데이터의 개수"
   ]
  },
  {
   "cell_type": "code",
   "execution_count": null,
   "id": "3341dd1d",
   "metadata": {},
   "outputs": [],
   "source": []
  },
  {
   "cell_type": "code",
   "execution_count": null,
   "id": "48780b86",
   "metadata": {},
   "outputs": [],
   "source": []
  },
  {
   "cell_type": "code",
   "execution_count": null,
   "id": "57da9f54",
   "metadata": {},
   "outputs": [],
   "source": []
  },
  {
   "cell_type": "code",
   "execution_count": null,
   "id": "60803f64",
   "metadata": {},
   "outputs": [],
   "source": []
  },
  {
   "cell_type": "code",
   "execution_count": null,
   "id": "339f64b3",
   "metadata": {},
   "outputs": [],
   "source": []
  },
  {
   "cell_type": "code",
   "execution_count": null,
   "id": "de9bd965",
   "metadata": {},
   "outputs": [],
   "source": []
  },
  {
   "cell_type": "code",
   "execution_count": null,
   "id": "eae881cf",
   "metadata": {},
   "outputs": [],
   "source": []
  },
  {
   "cell_type": "code",
   "execution_count": null,
   "id": "ebdce3d3",
   "metadata": {},
   "outputs": [],
   "source": []
  }
 ],
 "metadata": {
  "kernelspec": {
   "display_name": "Python 3 (ipykernel)",
   "language": "python",
   "name": "python3"
  },
  "language_info": {
   "codemirror_mode": {
    "name": "ipython",
    "version": 3
   },
   "file_extension": ".py",
   "mimetype": "text/x-python",
   "name": "python",
   "nbconvert_exporter": "python",
   "pygments_lexer": "ipython3",
   "version": "3.9.13"
  }
 },
 "nbformat": 4,
 "nbformat_minor": 5
}
