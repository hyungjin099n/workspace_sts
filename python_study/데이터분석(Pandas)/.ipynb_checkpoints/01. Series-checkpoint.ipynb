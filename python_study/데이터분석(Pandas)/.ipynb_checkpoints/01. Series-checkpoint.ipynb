{
 "cells": [
  {
   "cell_type": "markdown",
   "id": "7973fa2d",
   "metadata": {},
   "source": [
    "# Pandas\n",
    "파이썬에서 사용하는 데이터 분석 라이브러리"
   ]
  },
  {
   "cell_type": "code",
   "execution_count": 2,
   "id": "8a698d25",
   "metadata": {},
   "outputs": [],
   "source": [
    "import pandas as pd"
   ]
  },
  {
   "cell_type": "markdown",
   "id": "78c3b415",
   "metadata": {},
   "source": [
    "## 1. Series\n",
    "1차원 데이터"
   ]
  },
  {
   "cell_type": "markdown",
   "id": "8a493d41",
   "metadata": {},
   "source": [
    "### Series객체 생성\n",
    "ex> 1월부터 4월까지의 평균 온도 데이터(-10, 0, 10, 20)"
   ]
  },
  {
   "cell_type": "code",
   "execution_count": 6,
   "id": "935c572b",
   "metadata": {},
   "outputs": [],
   "source": [
    "temp = pd.Series([-10, 0, 10, 20])"
   ]
  },
  {
   "cell_type": "code",
   "execution_count": 9,
   "id": "03f0975e",
   "metadata": {},
   "outputs": [
    {
     "name": "stdout",
     "output_type": "stream",
     "text": [
      "0   -10\n",
      "1     0\n",
      "2    10\n",
      "3    20\n",
      "dtype: int64\n",
      "\n",
      "-10\n",
      "0\n"
     ]
    }
   ],
   "source": [
    "# 전체 정보 출력\n",
    "print(temp)\n",
    "print()\n",
    "#각각의 데이터 출력\n",
    "print(temp[0])\n",
    "print(temp[1])"
   ]
  },
  {
   "cell_type": "markdown",
   "id": "70b2c4a4",
   "metadata": {},
   "source": [
    "### Series 객체 생성 + Index 지정"
   ]
  },
  {
   "cell_type": "code",
   "execution_count": 10,
   "id": "685ca469",
   "metadata": {},
   "outputs": [],
   "source": [
    "temp = pd.Series([-10, 0, 10, 20], index=['1월', '2월', '3월', '4월'])"
   ]
  },
  {
   "cell_type": "code",
   "execution_count": 13,
   "id": "e3b8d8af",
   "metadata": {},
   "outputs": [
    {
     "name": "stdout",
     "output_type": "stream",
     "text": [
      "1월   -10\n",
      "2월     0\n",
      "3월    10\n",
      "4월    20\n",
      "dtype: int64\n",
      "\n",
      "-10\n",
      "0\n"
     ]
    }
   ],
   "source": [
    "# 전체 정보 출력\n",
    "print(temp)\n",
    "print()\n",
    "#각각의 데이터 출력\n",
    "print(temp['1월'])\n",
    "print(temp['2월'])\n",
    "#print(temp['5월'])  # 없는 key값은 KeyError 발생"
   ]
  },
  {
   "cell_type": "code",
   "execution_count": null,
   "id": "961bb549",
   "metadata": {},
   "outputs": [],
   "source": []
  },
  {
   "cell_type": "code",
   "execution_count": null,
   "id": "16349a3f",
   "metadata": {},
   "outputs": [],
   "source": []
  },
  {
   "cell_type": "code",
   "execution_count": null,
   "id": "3326954b",
   "metadata": {},
   "outputs": [],
   "source": []
  }
 ],
 "metadata": {
  "kernelspec": {
   "display_name": "Python 3 (ipykernel)",
   "language": "python",
   "name": "python3"
  },
  "language_info": {
   "codemirror_mode": {
    "name": "ipython",
    "version": 3
   },
   "file_extension": ".py",
   "mimetype": "text/x-python",
   "name": "python",
   "nbconvert_exporter": "python",
   "pygments_lexer": "ipython3",
   "version": "3.9.12"
  }
 },
 "nbformat": 4,
 "nbformat_minor": 5
}
