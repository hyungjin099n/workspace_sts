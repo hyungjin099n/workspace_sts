{
 "cells": [
  {
   "cell_type": "markdown",
   "id": "688a34e3",
   "metadata": {},
   "source": [
    "# 파일 저장 및 열기\n",
    "DataFrame 객체를 excel, scv, txt 등의 형태의 파일로 저장 및 열기"
   ]
  },
  {
   "cell_type": "code",
   "execution_count": 2,
   "id": "40d7fe07",
   "metadata": {},
   "outputs": [],
   "source": [
    "import pandas as pd"
   ]
  },
  {
   "cell_type": "code",
   "execution_count": 3,
   "id": "5969dc8e",
   "metadata": {},
   "outputs": [],
   "source": [
    "data = {\n",
    "    '이름' : ['김자바', '이자바', '박자바', '최자바', '정자바'],\n",
    "    '학급' : ['자바반', '자바반', '자바반', '캐드반', '캐드반'],\n",
    "    '국어점수' : [90, 80, 70, 100, 90],\n",
    "    '영어점수' : [70, 80, 80, 70, 90],\n",
    "    '평균' : [80.0, 80.0, 75.0, 85.0, 90.0],\n",
    "    '취미' : ['독서', '', '', '요가', '축구']\n",
    "}\n",
    "\n",
    "df = pd.DataFrame(data, index=['1번', '2번', '3번', '4번', '5번'])\n",
    "df.index.name = '학번'"
   ]
  },
  {
   "cell_type": "code",
   "execution_count": 4,
   "id": "0bbd6667",
   "metadata": {},
   "outputs": [
    {
     "data": {
      "text/html": [
       "<div>\n",
       "<style scoped>\n",
       "    .dataframe tbody tr th:only-of-type {\n",
       "        vertical-align: middle;\n",
       "    }\n",
       "\n",
       "    .dataframe tbody tr th {\n",
       "        vertical-align: top;\n",
       "    }\n",
       "\n",
       "    .dataframe thead th {\n",
       "        text-align: right;\n",
       "    }\n",
       "</style>\n",
       "<table border=\"1\" class=\"dataframe\">\n",
       "  <thead>\n",
       "    <tr style=\"text-align: right;\">\n",
       "      <th></th>\n",
       "      <th>이름</th>\n",
       "      <th>학급</th>\n",
       "      <th>국어점수</th>\n",
       "      <th>영어점수</th>\n",
       "      <th>평균</th>\n",
       "      <th>취미</th>\n",
       "    </tr>\n",
       "    <tr>\n",
       "      <th>학번</th>\n",
       "      <th></th>\n",
       "      <th></th>\n",
       "      <th></th>\n",
       "      <th></th>\n",
       "      <th></th>\n",
       "      <th></th>\n",
       "    </tr>\n",
       "  </thead>\n",
       "  <tbody>\n",
       "    <tr>\n",
       "      <th>1번</th>\n",
       "      <td>김자바</td>\n",
       "      <td>자바반</td>\n",
       "      <td>90</td>\n",
       "      <td>70</td>\n",
       "      <td>80.0</td>\n",
       "      <td>독서</td>\n",
       "    </tr>\n",
       "    <tr>\n",
       "      <th>2번</th>\n",
       "      <td>이자바</td>\n",
       "      <td>자바반</td>\n",
       "      <td>80</td>\n",
       "      <td>80</td>\n",
       "      <td>80.0</td>\n",
       "      <td></td>\n",
       "    </tr>\n",
       "    <tr>\n",
       "      <th>3번</th>\n",
       "      <td>박자바</td>\n",
       "      <td>자바반</td>\n",
       "      <td>70</td>\n",
       "      <td>80</td>\n",
       "      <td>75.0</td>\n",
       "      <td></td>\n",
       "    </tr>\n",
       "    <tr>\n",
       "      <th>4번</th>\n",
       "      <td>최자바</td>\n",
       "      <td>캐드반</td>\n",
       "      <td>100</td>\n",
       "      <td>70</td>\n",
       "      <td>85.0</td>\n",
       "      <td>요가</td>\n",
       "    </tr>\n",
       "    <tr>\n",
       "      <th>5번</th>\n",
       "      <td>정자바</td>\n",
       "      <td>캐드반</td>\n",
       "      <td>90</td>\n",
       "      <td>90</td>\n",
       "      <td>90.0</td>\n",
       "      <td>축구</td>\n",
       "    </tr>\n",
       "  </tbody>\n",
       "</table>\n",
       "</div>"
      ],
      "text/plain": [
       "     이름   학급  국어점수  영어점수    평균  취미\n",
       "학번                                \n",
       "1번  김자바  자바반    90    70  80.0  독서\n",
       "2번  이자바  자바반    80    80  80.0    \n",
       "3번  박자바  자바반    70    80  75.0    \n",
       "4번  최자바  캐드반   100    70  85.0  요가\n",
       "5번  정자바  캐드반    90    90  90.0  축구"
      ]
     },
     "execution_count": 4,
     "metadata": {},
     "output_type": "execute_result"
    }
   ],
   "source": [
    "df"
   ]
  },
  {
   "cell_type": "markdown",
   "id": "4edacd8c",
   "metadata": {},
   "source": [
    "##  저장하기\n",
    "### csv로 저장"
   ]
  },
  {
   "cell_type": "code",
   "execution_count": 7,
   "id": "c552e5d5",
   "metadata": {},
   "outputs": [],
   "source": [
    "#encoding 안해주면 엑셀에서는 한글 꺠짐\n",
    "df.to_csv('student.csv', encoding='utf-8-sig')"
   ]
  },
  {
   "cell_type": "code",
   "execution_count": null,
   "id": "6283e158",
   "metadata": {},
   "outputs": [],
   "source": [
    "df.to_csv('student.csv', encoding='utf-8-sig', index=False)"
   ]
  },
  {
   "cell_type": "code",
   "execution_count": null,
   "id": "1e0f04c5",
   "metadata": {},
   "outputs": [],
   "source": []
  },
  {
   "cell_type": "code",
   "execution_count": null,
   "id": "439605c1",
   "metadata": {},
   "outputs": [],
   "source": []
  },
  {
   "cell_type": "code",
   "execution_count": null,
   "id": "8f7a8941",
   "metadata": {},
   "outputs": [],
   "source": []
  },
  {
   "cell_type": "code",
   "execution_count": null,
   "id": "97390d01",
   "metadata": {},
   "outputs": [],
   "source": []
  },
  {
   "cell_type": "code",
   "execution_count": null,
   "id": "de9b2db5",
   "metadata": {},
   "outputs": [],
   "source": []
  },
  {
   "cell_type": "code",
   "execution_count": null,
   "id": "a7cec9eb",
   "metadata": {},
   "outputs": [],
   "source": []
  },
  {
   "cell_type": "code",
   "execution_count": null,
   "id": "bc3a808e",
   "metadata": {},
   "outputs": [],
   "source": []
  },
  {
   "cell_type": "code",
   "execution_count": null,
   "id": "2cd40250",
   "metadata": {},
   "outputs": [],
   "source": []
  },
  {
   "cell_type": "code",
   "execution_count": null,
   "id": "527da765",
   "metadata": {},
   "outputs": [],
   "source": []
  }
 ],
 "metadata": {
  "kernelspec": {
   "display_name": "Python 3 (ipykernel)",
   "language": "python",
   "name": "python3"
  },
  "language_info": {
   "codemirror_mode": {
    "name": "ipython",
    "version": 3
   },
   "file_extension": ".py",
   "mimetype": "text/x-python",
   "name": "python",
   "nbconvert_exporter": "python",
   "pygments_lexer": "ipython3",
   "version": "3.9.12"
  }
 },
 "nbformat": 4,
 "nbformat_minor": 5
}
