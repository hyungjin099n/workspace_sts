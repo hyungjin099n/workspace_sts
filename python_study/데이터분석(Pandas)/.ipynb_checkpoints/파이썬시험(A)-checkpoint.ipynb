{
 "cells": [
  {
   "cell_type": "markdown",
   "id": "3609ab45",
   "metadata": {},
   "source": [
    "# 파이썬 프로그래밍 시험 (A)"
   ]
  },
  {
   "cell_type": "markdown",
   "id": "96801310",
   "metadata": {},
   "source": [
    "### 1. 키보드로 두 수를 입력받아 큰 수부터 출력하는 프로그램을 작성하시요. 단, 입력받는 두 수는 중복이 없다고 가정한다. (10점)"
   ]
  },
  {
   "cell_type": "code",
   "execution_count": 2,
   "id": "312f650f",
   "metadata": {},
   "outputs": [],
   "source": [
    "#1번 문제 풀이 작성"
   ]
  },
  {
   "cell_type": "markdown",
   "id": "ad1f7e5f",
   "metadata": {},
   "source": [
    "### 2. 키보드로 세 수를 입력받고,입력받은 세 수를 리스트에 저장하시오. 그 후 리스트에 저장된 수 중 가장 큰 수와 가장 작은 수의 차를 출력하시오. (10점)"
   ]
  },
  {
   "cell_type": "code",
   "execution_count": 3,
   "id": "59446e63",
   "metadata": {},
   "outputs": [],
   "source": [
    "#2번 문제 풀이 작성"
   ]
  },
  {
   "cell_type": "markdown",
   "id": "45634a8b",
   "metadata": {},
   "source": [
    "### 3. 매개변수로 두 개의 리스트를 받아, 두 개의 리스트에 저장된 모든 데이터의 합을 리턴하는 함수를 작성하시오.  (10점)\n",
    "EX> 두 매개변수 : [1,2,3] , [4,5,6] / 결과 : 21"
   ]
  },
  {
   "cell_type": "code",
   "execution_count": 4,
   "id": "64188f9f",
   "metadata": {},
   "outputs": [],
   "source": [
    "#3번 문제 풀이 작성"
   ]
  },
  {
   "cell_type": "markdown",
   "id": "2e03b884",
   "metadata": {},
   "source": [
    "### 4. 매개변수로 두 개의 리스트를 받아, 두 개의 리스트에 중복으로 저장된 데이터만을 갖는  새로운 리스트를 리턴하는 함수를 작성하시오.  (15점)\n",
    "EX> 두 매개변수 : [1,3,5,7,9] , [1,2,3,4,5] / 결과 : [1,3,5]"
   ]
  },
  {
   "cell_type": "code",
   "execution_count": 5,
   "id": "06603c1d",
   "metadata": {},
   "outputs": [],
   "source": [
    "#4번 문제 풀이 작성"
   ]
  },
  {
   "cell_type": "markdown",
   "id": "cfde14e4",
   "metadata": {},
   "source": [
    "### 5. 이름, 나이, 국어점수, 영어점수를 데이터로 갖는 student 딕셔너리를 만드시오. 각 데이터는 키보드로 입력받아 저장하고, 저장된 데이터를 출력하시오 (10점)"
   ]
  },
  {
   "cell_type": "code",
   "execution_count": 6,
   "id": "3bec11d1",
   "metadata": {},
   "outputs": [],
   "source": [
    "#5번 문제 풀이 작성"
   ]
  },
  {
   "cell_type": "markdown",
   "id": "bfdfd34d",
   "metadata": {},
   "source": [
    "###  6. 5번 문제에서 만든 딕셔너리 데이터에 총점 데이터를 추가하시오. 총점 데이터는 국어,영어 점수의 합으로 들어가야합니다. (15점)"
   ]
  },
  {
   "cell_type": "code",
   "execution_count": 7,
   "id": "98179e8a",
   "metadata": {},
   "outputs": [],
   "source": [
    "#6번 문제 풀이 작성"
   ]
  },
  {
   "cell_type": "markdown",
   "id": "ec5ad5ab",
   "metadata": {},
   "source": [
    "### 아래 데이터를 참고하여 7~8번 문제를 푸시오."
   ]
  },
  {
   "cell_type": "code",
   "execution_count": 14,
   "id": "c53fe493",
   "metadata": {},
   "outputs": [],
   "source": [
    "class_room_data = {\n",
    "    'stu_no' : [1, 2, 3, 4, 5],\n",
    "    'stu_name' : ['김자바', '이자바', '박자바', '최자바', '정자바'],\n",
    "    'stu_score' : [85, 65, 70, 80, 95]\n",
    "}"
   ]
  },
  {
   "cell_type": "markdown",
   "id": "57a161cf",
   "metadata": {},
   "source": [
    "### 7. 점수가 80점 이상인 학생들의 학번, 이름, 점수를 출력하시오.(15점)"
   ]
  },
  {
   "cell_type": "code",
   "execution_count": null,
   "id": "7b78aee4",
   "metadata": {},
   "outputs": [],
   "source": []
  },
  {
   "cell_type": "markdown",
   "id": "9190a70a",
   "metadata": {},
   "source": [
    "### 8. 위의 딕셔너리 데이터에 stu_grade라는 키를 추가하고, 해당 키의  데이터로  점수(stu_score)에 따른 등급 데이터를 저장하시오. (15점)\n",
    "90 <= 점수      : A등급  \n",
    "80 <= 점수 < 90 : B등급  \n",
    "70 <= 점수 < 80 : C등급  \n",
    "      점수 < 70 : D등급"
   ]
  },
  {
   "cell_type": "code",
   "execution_count": null,
   "id": "18a1dc4c",
   "metadata": {},
   "outputs": [],
   "source": []
  }
 ],
 "metadata": {
  "kernelspec": {
   "display_name": "Python 3 (ipykernel)",
   "language": "python",
   "name": "python3"
  },
  "language_info": {
   "codemirror_mode": {
    "name": "ipython",
    "version": 3
   },
   "file_extension": ".py",
   "mimetype": "text/x-python",
   "name": "python",
   "nbconvert_exporter": "python",
   "pygments_lexer": "ipython3",
   "version": "3.9.12"
  }
 },
 "nbformat": 4,
 "nbformat_minor": 5
}
